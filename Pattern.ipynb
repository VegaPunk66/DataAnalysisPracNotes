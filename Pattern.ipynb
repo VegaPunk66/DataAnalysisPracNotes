{
 "cells": [
  {
   "cell_type": "code",
   "execution_count": 5,
   "id": "60219fa8",
   "metadata": {},
   "outputs": [
    {
     "name": "stdout",
     "output_type": "stream",
     "text": [
      "P\n",
      "PY\n",
      "PYT\n",
      "PYTH\n",
      "PYTHO\n",
      "PYTHON\n",
      "PYTHO\n",
      "PYTH\n",
      "PYT\n",
      "PY\n",
      "P\n",
      "\n"
     ]
    }
   ],
   "source": [
    "my_string = 'PYTHON'\n",
    "x=0\n",
    "\n",
    "for i in my_string:\n",
    "    x=x+1\n",
    "    print(my_string[0:x])\n",
    "    \n",
    "\n",
    "for i in my_string:\n",
    "    x=x-1\n",
    "    print(my_string[0:x])"
   ]
  },
  {
   "cell_type": "code",
   "execution_count": null,
   "id": "15ff24ea",
   "metadata": {},
   "outputs": [],
   "source": []
  }
 ],
 "metadata": {
  "kernelspec": {
   "display_name": "Python 3 (ipykernel)",
   "language": "python",
   "name": "python3"
  },
  "language_info": {
   "codemirror_mode": {
    "name": "ipython",
    "version": 3
   },
   "file_extension": ".py",
   "mimetype": "text/x-python",
   "name": "python",
   "nbconvert_exporter": "python",
   "pygments_lexer": "ipython3",
   "version": "3.11.3"
  }
 },
 "nbformat": 4,
 "nbformat_minor": 5
}
